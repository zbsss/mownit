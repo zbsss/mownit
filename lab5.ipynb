{
 "cells": [
  {
   "cell_type": "markdown",
   "metadata": {},
   "source": [
    "# Laboratorium 5\n",
    "### Michał Kurleto"
   ]
  },
  {
   "cell_type": "code",
   "execution_count": 1,
   "metadata": {},
   "outputs": [],
   "source": [
    "from mpmath import *\n",
    "import matplotlib.pyplot as plt\n",
    "import numpy as np"
   ]
  },
  {
   "cell_type": "markdown",
   "metadata": {},
   "source": [
    "### Funkcje i ich pochodne: "
   ]
  },
  {
   "cell_type": "code",
   "execution_count": 2,
   "metadata": {},
   "outputs": [],
   "source": [
    "function1 = lambda x: cos(x) * cosh(x) - 1 \n",
    "derivative1 = lambda x: sinh(x) * cos(x) - sin(x) * cosh(x)\n",
    "\n",
    "function2 = lambda x: (1/x) - tan(x)\n",
    "derivative2 = lambda x: -1/(x**2) - 1/(cos(x)**2)\n",
    "\n",
    "function3 = lambda x: 2**(-x) + e**x + 2 * cos(x) - 6\n",
    "derivative3 = lambda x: e**x - ln(2) * 2**(-x) - 2 * sin(x)"
   ]
  },
  {
   "cell_type": "markdown",
   "metadata": {},
   "source": [
    "### 1. Metoda Bisekcji\n",
    "Napisz funkcję realizującą metodę bisekcji dla danej funkcji f w oparciu o arytmetykę o\n",
    "zmiennej precyzji (mpmath.mpf). Funkcja przyjmuje następujące argumenty:   \n",
    "• Minimalną precyzję obliczeń (liczba cyfr znaczących)   \n",
    "• Krańce przedziału   \n",
    "• Błąd bezwzględny obliczeń1   \n",
    "\n",
    "Funkcja ma zwracać wyznaczone miejsce zerowe, wyliczoną wartość w miejscu zerowym\n",
    "oraz liczbę iteracji potrzebną do uzyskania określonej dokładności. Przetestuj działanie\n",
    "metody dla funkcji podanych na początku instrukcji. Jaka liczba iteracji jest potrzebna do uzyskania bezwzględnej dokładności rzędu: 10−7\n",
    ", 10−15, 10−33? \n",
    "W jaki sposób możemy obliczyć k pierwszych dodatnich pierwiastków funkcji f1(x)?\n"
   ]
  },
  {
   "cell_type": "code",
   "execution_count": 3,
   "metadata": {},
   "outputs": [],
   "source": [
    "def bisection(function, left, right, epsilon, precision):\n",
    "    mp.dps = precision\n",
    "    iterations = 0\n",
    "    \n",
    "    while right - left >= epsilon:\n",
    "        mid = left + (right - left)/2\n",
    "        \n",
    "        if function(left) * function(mid) < 0: #są różnych znaków\n",
    "            right = mid\n",
    "        elif function(right) * function(mid) < 0:\n",
    "            left = mid\n",
    "        else:\n",
    "            break\n",
    "        \n",
    "        iterations += 1\n",
    "    \n",
    "    return mid, function(mid), iterations"
   ]
  },
  {
   "cell_type": "markdown",
   "metadata": {},
   "source": [
    "#### Funkcja 1."
   ]
  },
  {
   "cell_type": "code",
   "execution_count": 4,
   "metadata": {
    "scrolled": false
   },
   "outputs": [
    {
     "name": "stdout",
     "output_type": "stream",
     "text": [
      "(mpf('4.730040789'), mpf('2.518296242e-6'), 24)\n",
      "(mpf('4.7300407448627046'), mpf('3.5749181392930041e-14'), 51)\n",
      "(mpf('4.73004074486270402602404810083388474'), mpf('-4.33334237487128066937595037081608647e-33'), 111)\n"
     ]
    }
   ],
   "source": [
    "print(bisection(function1, (3/2) * pi,  2 * pi, mpf(1e-7), 7))\n",
    "print(bisection(function1, (3/2) * pi,  2 * pi, mpf(1e-15), 15))\n",
    "print(bisection(function1, (3/2) * pi,  2 * pi, mpf(1e-33), 33))"
   ]
  },
  {
   "cell_type": "markdown",
   "metadata": {},
   "source": [
    "#### Funkcja 2."
   ]
  },
  {
   "cell_type": "code",
   "execution_count": 5,
   "metadata": {},
   "outputs": [
    {
     "name": "stdout",
     "output_type": "stream",
     "text": [
      "(mpf('0.8603335917'), mpf('0.0'), 23)\n",
      "(mpf('0.86033358901938017'), mpf('-1.3322676295501878e-15'), 51)\n",
      "(mpf('0.860333589019379762483893424137662091'), mpf('9.62964972193617926527988971292463659e-34'), 111)\n"
     ]
    }
   ],
   "source": [
    "print(bisection(function2, mpf(1e-7),  pi/2, mpf(1e-7), 7))\n",
    "print(bisection(function2, mpf(1e-15),  pi/2, mpf(1e-15), 15))\n",
    "print(bisection(function2, mpf(1e-33),  pi/2, mpf(1e-33), 33))"
   ]
  },
  {
   "cell_type": "markdown",
   "metadata": {},
   "source": [
    "#### Funkcja 3."
   ]
  },
  {
   "cell_type": "code",
   "execution_count": 6,
   "metadata": {
    "scrolled": true
   },
   "outputs": [
    {
     "name": "stdout",
     "output_type": "stream",
     "text": [
      "(mpf('1.829383552'), mpf('-1.788139343e-7'), 25)\n",
      "(mpf('1.8293836019338494'), mpf('1.7763568394002505e-15'), 51)\n",
      "(mpf('1.829383601933848817136212946814151'), mpf('0.0'), 110)\n"
     ]
    }
   ],
   "source": [
    "print(bisection(function3, mpf(1),  mpf(3), mpf(1e-7), 7))\n",
    "print(bisection(function3, mpf(1),  mpf(3), mpf(1e-15), 15))\n",
    "print(bisection(function3, mpf(1),  mpf(3), mpf(1e-33), 33))"
   ]
  },
  {
   "cell_type": "markdown",
   "metadata": {},
   "source": [
    "#### W jaki sposób możemy obliczyć k pierwszych dodatnich pierwiastków funkcji f1(x)?\n",
    "Todo"
   ]
  },
  {
   "cell_type": "markdown",
   "metadata": {},
   "source": [
    "### 2. Metoda Newtona\n",
    "Napisz funkcję realizującą metodę Newtona w oparciu o arytmetykę o zmiennej precyzji\n",
    "(mpmath.mpf). Funkcja ma wykorzystywać dwa kryteria stopu:   \n",
    "\n",
    "• maksymalną liczbę iteracji   \n",
    "• moduł różnicy kolejnych przybliżeń mniejszy od danej wartości ε   \n",
    "\n",
    "Oprócz przybliżonej wartości pierwiastka funkcja ma zwrócić liczbę iteracji potrzebną\n",
    "do uzyskania określonej dokładności ε. Przetestuj działanie metody dla funkcji podanych\n",
    "na początku instrukcji (dodatkowo dostępne pochodne tych funkcji). Porównaj zbieżność\n",
    "metody ze zbieżnością uzyskaną dla metody bisekcji.\n"
   ]
  },
  {
   "cell_type": "code",
   "execution_count": 7,
   "metadata": {},
   "outputs": [],
   "source": [
    "def newton(function, derivative, left, right, epsilon, precision):\n",
    "    mp.dps = precision\n",
    "    \n",
    "    iterations = 0\n",
    "    x = left\n",
    "    \n",
    "    while abs((fx := function(x))) > epsilon:\n",
    "        x -= fx / derivative(x)\n",
    "        iterations += 1\n",
    "        \n",
    "    return x, fx, iterations "
   ]
  },
  {
   "cell_type": "markdown",
   "metadata": {},
   "source": [
    "#### Funkcja 1."
   ]
  },
  {
   "cell_type": "code",
   "execution_count": 18,
   "metadata": {
    "scrolled": true
   },
   "outputs": [
    {
     "name": "stdout",
     "output_type": "stream",
     "text": [
      "(mpf('4.7300407439'), mpf('-5.2154064178e-8'), 3)\n",
      "(mpf('4.7300407448627040247'), mpf('-7.7195194680967915701e-17'), 4)\n",
      "(mpf('4.7300407448627040260240481008338848171'), mpf('-1.6174802267314676109649814752178100527e-34'), 5)\n"
     ]
    }
   ],
   "source": [
    "print(newton(function1, derivative1, (3/2) * pi, 2 * pi, mpf(1e-7), 8))\n",
    "print(newton(function1, derivative1, (3/2) * pi, 2 * pi, mpf(1e-15), 17))\n",
    "print(newton(function1, derivative1, (3/2) * pi, 2 * pi, mpf(1e-33), 35))"
   ]
  },
  {
   "cell_type": "markdown",
   "metadata": {},
   "source": [
    "#### Funkcja 2."
   ]
  },
  {
   "cell_type": "code",
   "execution_count": 9,
   "metadata": {},
   "outputs": [
    {
     "name": "stdout",
     "output_type": "stream",
     "text": [
      "(mpf('0.86033358984'), mpf('-3.7252902985e-9'), 6)\n",
      "(mpf('0.86033358901937976269'), mpf('0.0'), 7)\n",
      "(mpf('0.86033358901937976248389342413766233283'), mpf('1.5046327690525280101999827676444744676e-36'), 8)\n"
     ]
    }
   ],
   "source": [
    "print(newton(function2, derivative2, mpf(0.1), pi/2, mpf(1e-7), 8))\n",
    "print(newton(function2, derivative2, mpf(0.1), pi/2, mpf(1e-15), 17))\n",
    "print(newton(function2, derivative2, mpf(0.1), pi/2, mpf(1e-33), 35))"
   ]
  },
  {
   "cell_type": "markdown",
   "metadata": {},
   "source": [
    "#### Funkcja 3."
   ]
  },
  {
   "cell_type": "code",
   "execution_count": 10,
   "metadata": {},
   "outputs": [
    {
     "name": "stdout",
     "output_type": "stream",
     "text": [
      "(mpf('1.8293836042'), mpf('7.4505805969e-9'), 7)\n",
      "(mpf('1.8293836019338488158'), mpf('0.0'), 8)\n",
      "(mpf('1.8293836019338488171362129468141507913'), mpf('0.0'), 9)\n"
     ]
    }
   ],
   "source": [
    "print(newton(function3, derivative3, mpf(1), mpf(3), mpf(1e-7), 8))\n",
    "print(newton(function3, derivative3, mpf(1), mpf(3), mpf(1e-15), 17))\n",
    "print(newton(function3, derivative3, mpf(1), mpf(3), mpf(1e-33), 35))"
   ]
  },
  {
   "cell_type": "markdown",
   "metadata": {},
   "source": [
    "### 3. Metoda Siecznych\n",
    "Napisz funkcję realizującą metodę siecznych w oparciu o arytmetykę o zmiennej precyzji\n",
    "(mpmath.mpf). Funkcja powinna stosować te same kryteria stopu co funkcja realizująca\n",
    "metodę Newtona. Przetestuj działanie metody dla funkcji podanych na początku instrukcji. Porównaj zbieżność metody ze zbieżnością uzyskaną dla metody bisekcji oraz\n",
    "metody Newtona."
   ]
  },
  {
   "cell_type": "code",
   "execution_count": 11,
   "metadata": {},
   "outputs": [],
   "source": [
    "def secant(function, left, right, epsilon, precision):\n",
    "    mp.dps = precision\n",
    "    \n",
    "    iterations = 0\n",
    "    \n",
    "    x0 = left\n",
    "    x1 = right\n",
    "    \n",
    "    fx0 = function(x0)\n",
    "    fx1 = function(x1)\n",
    "    \n",
    "    while abs(fx1) > epsilon:\n",
    "        x = x1 - fx1 * (x1 - x0)/(fx1 - fx0)\n",
    "        x1, x0 = x, x1\n",
    "        \n",
    "        fx0, fx1 = fx1, function(x)\n",
    "        \n",
    "        iterations += 1\n",
    "    \n",
    "    return x1, fx1, iterations"
   ]
  },
  {
   "cell_type": "markdown",
   "metadata": {},
   "source": [
    "#### Funkcja 1."
   ]
  },
  {
   "cell_type": "code",
   "execution_count": 12,
   "metadata": {
    "scrolled": false
   },
   "outputs": [
    {
     "name": "stdout",
     "output_type": "stream",
     "text": [
      "(mpf('4.7300407439'), mpf('-5.2154064178e-8'), 5)\n",
      "(mpf('4.7300407448627040247'), mpf('-7.7195194680967915701e-17'), 7)\n",
      "(mpf('4.7300407448627040260240481008338848231'), mpf('1.8506983059346094525459788042027035952e-34'), 8)\n"
     ]
    }
   ],
   "source": [
    "print(secant(function1, (3/2) * pi, 2 * pi, mpf(1e-7), 8))\n",
    "print(secant(function1, (3/2) * pi, 2 * pi, mpf(1e-15), 17))\n",
    "print(secant(function1, (3/2) * pi, 2 * pi, mpf(1e-33), 35))"
   ]
  },
  {
   "cell_type": "markdown",
   "metadata": {},
   "source": [
    "#### Funkcja 2."
   ]
  },
  {
   "cell_type": "code",
   "execution_count": 14,
   "metadata": {},
   "outputs": [
    {
     "name": "stdout",
     "output_type": "stream",
     "text": [
      "(mpf('0.8603335884764'), mpf('2.008164301515e-9'), 10)\n",
      "(mpf('0.86033358901937976269'), mpf('0.0'), 12)\n",
      "(mpf('0.86033358901937976248389342413766233358'), mpf('-1.5046327690525280101999827676444744676e-36'), 13)\n"
     ]
    }
   ],
   "source": [
    "print(secant(function2, mpf(0.1), pi/2, mpf(1e-7), 10))\n",
    "print(secant(function2, mpf(0.1), pi/2, mpf(1e-15), 17))\n",
    "print(secant(function2, mpf(0.1), pi/2, mpf(1e-33), 35))"
   ]
  },
  {
   "cell_type": "markdown",
   "metadata": {},
   "source": [
    "#### Funkcja 3."
   ]
  },
  {
   "cell_type": "code",
   "execution_count": 16,
   "metadata": {
    "scrolled": true
   },
   "outputs": [
    {
     "name": "stdout",
     "output_type": "stream",
     "text": [
      "(mpf('1.8293836024'), mpf('0.0'), 9)\n",
      "(mpf('1.8293836019338488141'), mpf('-6.9388939039072283776e-18'), 10)\n",
      "(mpf('1.8293836019338488171362129468141507883'), mpf('-1.2037062152420224081599862141155795741e-35'), 12)\n"
     ]
    }
   ],
   "source": [
    "print(secant(function3, mpf(1), mpf(3), mpf(1e-7), 8))\n",
    "print(secant(function3, mpf(1), mpf(3), mpf(1e-15), 17))\n",
    "print(secant(function3, mpf(1), mpf(3), mpf(1e-33), 35))"
   ]
  },
  {
   "cell_type": "markdown",
   "metadata": {},
   "source": [
    "### 4. Porównanie Metod\n",
    "\n",
    "#### Dla 7 miejsc znaczących:\n",
    "\n",
    "|  Metoda |  Wynik |  Iteracje |\n",
    "|---|---|---|\n",
    "| Bisekcja:  | 4.7300407  | 24   |\n",
    "|  Newton: |  4.7300407 |  3 |\n",
    "|  Sieczne: | 4.7300407  |  5 |\n",
    "\n",
    "#### Dla 15 miejsc znaczących:\n",
    "\n",
    "|  Metoda |  Wynik |  Iteracje |\n",
    "|---|---|---|\n",
    "| Bisekcja:  | 4.73004074486270  | 51   |\n",
    "|  Newton: |  4.73004074486270 |  4 |\n",
    "|  Sieczne: | 4.73004074486270  |  7 |\n",
    "\n",
    "#### Dla 33 miejsc znaczących:\n",
    "\n",
    "|  Metoda |  Wynik |  Iteracje |\n",
    "|---|---|---|\n",
    "| Bisekcja:  | 4.73004074486270402602404810083388  | 111   |\n",
    "|  Newton: |  4.73004074486270402602404810083388 |  5 |\n",
    "|  Sieczne: | 4.73004074486270402602404810083388  |  8 |"
   ]
  },
  {
   "cell_type": "markdown",
   "metadata": {},
   "source": [
    "### 5. Wnioski:\n",
    "- **Bisekcja** - wymaga największej ilośći iteracji, ale za to gwarantuje że miejsce zerowe zostanie odnalezione.\n",
    "- **Metoda Newtona** - ma większe wymagania co do funkcji, której miejsc zerowych szukamy. Możemy trafić na punkt, gdzie pochodna funkcji się zeruje co kończy się niepoprawnym wynikiem (błąd). Potrzebuje mniej iteracji niż metoda bisekcji.\n",
    "- **Metoda Siecznych** - podobnie jak w metodzie Newtona, możne zwrócić niepoprawny wynik. Liczba iteracji zbliżona do tej w metodzie Newtona."
   ]
  }
 ],
 "metadata": {
  "kernelspec": {
   "display_name": "Python 3",
   "language": "python",
   "name": "python3"
  },
  "language_info": {
   "codemirror_mode": {
    "name": "ipython",
    "version": 3
   },
   "file_extension": ".py",
   "mimetype": "text/x-python",
   "name": "python",
   "nbconvert_exporter": "python",
   "pygments_lexer": "ipython3",
   "version": "3.7.3"
  }
 },
 "nbformat": 4,
 "nbformat_minor": 2
}

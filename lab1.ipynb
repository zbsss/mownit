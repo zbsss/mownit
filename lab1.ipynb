{
 "cells": [
  {
   "cell_type": "code",
   "execution_count": 134,
   "metadata": {},
   "outputs": [],
   "source": [
    "import numpy as np\n",
    "import matplotlib.pyplot as plt\n",
    "import time"
   ]
  },
  {
   "cell_type": "markdown",
   "metadata": {},
   "source": [
    "### ZAD 1\n",
    "#### 1.1\n",
    "Napisz program, który oblicza sumę N liczb pojedynczej precyzji przechowywanych\n",
    "w tablicy o N = 107\n",
    "elementach. Tablica wypełniona jest tą samą wartością v z\n",
    "przedziału [0.1, 0.9] np. v = 0.53125.\n"
   ]
  },
  {
   "cell_type": "code",
   "execution_count": 137,
   "metadata": {},
   "outputs": [],
   "source": [
    "N = 10**7\n",
    "v = np.float32(0.53125)\n",
    "numbers = [v] * N"
   ]
  },
  {
   "cell_type": "code",
   "execution_count": 138,
   "metadata": {},
   "outputs": [],
   "source": [
    "def sum_numbers(numbers):\n",
    "    sum = 0\n",
    "    for number in numbers:\n",
    "        sum += number\n",
    "    return sum"
   ]
  },
  {
   "cell_type": "code",
   "execution_count": 139,
   "metadata": {},
   "outputs": [],
   "source": [
    "def sum_numbers_float32(numbers):\n",
    "    sum = np.float32(0)\n",
    "    for number in numbers:\n",
    "        sum += number\n",
    "    return sum"
   ]
  },
  {
   "cell_type": "markdown",
   "metadata": {},
   "source": [
    "#### 1.2\n",
    "Wyznacz bezwzględny i względny błąd obliczeń. Dlaczego błąd względny jest tak\n",
    "duży?"
   ]
  },
  {
   "cell_type": "code",
   "execution_count": 140,
   "metadata": {},
   "outputs": [],
   "source": [
    "def absolute_error(a,b):\n",
    "    return abs(a-b)"
   ]
  },
  {
   "cell_type": "code",
   "execution_count": 141,
   "metadata": {},
   "outputs": [],
   "source": [
    "def relative_error(a,b):\n",
    "    return abs(a - b) / b"
   ]
  },
  {
   "cell_type": "code",
   "execution_count": 142,
   "metadata": {},
   "outputs": [
    {
     "name": "stdout",
     "output_type": "stream",
     "text": [
      "Sum using double: 5312500.0\n",
      "Sum using float32: 5030840.5\n",
      "Absolute error: 281659.5\n",
      "Relative error: 0.05598656924225683\n"
     ]
    }
   ],
   "source": [
    "def sum_and_count_errors(numbers):\n",
    "    a = sum_numbers(numbers)\n",
    "    b = sum_numbers_float32(numbers)\n",
    "\n",
    "    print(\"Sum using double: \" + str(a))\n",
    "    print(\"Sum using float32: \" + str(b))\n",
    "    print(\"Absolute error: \" + str(absolute_error(a,b)))\n",
    "    print(\"Relative error: \" + str(relative_error(a,b)))\n",
    "    \n",
    "sum_and_count_errors(numbers)"
   ]
  },
  {
   "cell_type": "markdown",
   "metadata": {},
   "source": [
    "#### 1.3\n",
    "W jaki sposób rośnie błąd względny w trakcie sumowania? Przedstaw wykres (raportuj wartość błędu co 25000 kroków) i dokonaj jego interpretacji."
   ]
  },
  {
   "cell_type": "code",
   "execution_count": 143,
   "metadata": {
    "scrolled": true
   },
   "outputs": [
    {
     "data": {
      "image/png": "[encoded data removed]",
      "text/plain": [
       "<Figure size 432x288 with 1 Axes>"
      ]
     },
     "metadata": {
      "needs_background": "light"
     },
     "output_type": "display_data"
    }
   ],
   "source": [
    "def plot_relative_error_growth(N,numbers):\n",
    "    result = []\n",
    "    i = 0\n",
    "    sum = 0\n",
    "    sum32 = np.float32(0)\n",
    "    while i < N:\n",
    "        sum += numbers[i]\n",
    "        sum32 += numbers[i] \n",
    "        if i % 25000 == 0:\n",
    "            result.append(relative_error(sum,sum32))\n",
    "        i += 1\n",
    "    plt.plot(result)\n",
    "    plt.show()\n",
    "    \n",
    "plot_relative_error_growth(N,numbers)"
   ]
  },
  {
   "cell_type": "markdown",
   "metadata": {},
   "source": [
    "#### 1.4\n",
    "Zaimplementuj rekurencyjny algorytm sumowania, działający jak na rysunku poniżej."
   ]
  },
  {
   "cell_type": "code",
   "execution_count": 144,
   "metadata": {},
   "outputs": [],
   "source": [
    "def recursive_sum(numbers):\n",
    "    if len(numbers) == 1: return numbers[0]\n",
    "    return recursive_sum(numbers[:len(numbers)//2]) + recursive_sum(numbers[len(numbers)//2 :])"
   ]
  },
  {
   "cell_type": "markdown",
   "metadata": {},
   "source": [
    "#### 1.5\n",
    "Wyznacz bezwzględny i względny błąd obliczeń. Dlaczego błąd względny znacznie\n",
    "zmalał?"
   ]
  },
  {
   "cell_type": "code",
   "execution_count": 145,
   "metadata": {},
   "outputs": [
    {
     "name": "stdout",
     "output_type": "stream",
     "text": [
      "Absolute error: 0.0\n",
      "Relative error: 0.0\n"
     ]
    }
   ],
   "source": [
    "rec_sum = recursive_sum(numbers)\n",
    "sum = sum_numbers(numbers)\n",
    "\n",
    "print(\"Absolute error: \" + str(absolute_error(rec_sum,sum)))\n",
    "print(\"Relative error: \" + str(relative_error(rec_sum,sum)))"
   ]
  },
  {
   "cell_type": "markdown",
   "metadata": {},
   "source": [
    "#### 1.6\n",
    "Porównaj czas działania obu algorytmów dla tych samych danych wejściowych."
   ]
  },
  {
   "cell_type": "code",
   "execution_count": 146,
   "metadata": {},
   "outputs": [
    {
     "name": "stdout",
     "output_type": "stream",
     "text": [
      "Normal algorithm: 0.8237974643707275s\n",
      "Recursive algirithm: 6.130611181259155s\n"
     ]
    }
   ],
   "source": [
    "start = time.time()\n",
    "sum_numbers(numbers)\n",
    "end = time.time()\n",
    "\n",
    "print(\"Normal algorithm: \" + str(end - start) + \"s\")\n",
    "\n",
    "start = time.time()\n",
    "recursive_sum(numbers)\n",
    "end = time.time()\n",
    "\n",
    "print(\"Recursive algirithm: \" + str(end-start)+ \"s\")"
   ]
  },
  {
   "cell_type": "markdown",
   "metadata": {},
   "source": [
    "#### 1.7\n",
    "Przedstaw przykładowe dane wejściowe, dla których algorytm sumowania rekurencyjnego zwraca niezerowy błąd."
   ]
  },
  {
   "cell_type": "code",
   "execution_count": null,
   "metadata": {},
   "outputs": [],
   "source": []
  },
  {
   "cell_type": "markdown",
   "metadata": {},
   "source": [
    "### ZAD 2\n",
    "Zaimplementuj algorytm sumowania Kahana.\n"
   ]
  },
  {
   "cell_type": "code",
   "execution_count": 147,
   "metadata": {},
   "outputs": [],
   "source": [
    "def kahan_sum(numbers):\n",
    "    sum = np.float32(0)\n",
    "    error = np.float32(0)\n",
    "    for number in numbers:\n",
    "        y = number - error\n",
    "        t = sum + y\n",
    "        error = (t - sum) - y\n",
    "        sum = t\n",
    "    return sum"
   ]
  },
  {
   "cell_type": "markdown",
   "metadata": {},
   "source": [
    "\n",
    "#### 2.1\n",
    "Wyznacz bezwzględny i względny błąd obliczeń dla tych samych danych wejściowych jak w przypadku testów z Zadania 1."
   ]
  },
  {
   "cell_type": "code",
   "execution_count": 148,
   "metadata": {},
   "outputs": [
    {
     "name": "stdout",
     "output_type": "stream",
     "text": [
      "Absolute error: 0.0\n",
      "Relative error: 0.0\n"
     ]
    }
   ],
   "source": [
    "kahan = kahan_sum(numbers)\n",
    "\n",
    "print(\"Absolute error: \" + str(absolute_error(kahan,sum)))\n",
    "print(\"Relative error: \" + str(relative_error(kahan,sum)))"
   ]
  },
  {
   "cell_type": "markdown",
   "metadata": {},
   "source": [
    "#### 2.2\n",
    "Wyjaśnij dlaczego w algorytm Kahana ma znacznie lepsze własności numeryczne?\n",
    "Do czego służy zmienna err?\n"
   ]
  },
  {
   "cell_type": "markdown",
   "metadata": {},
   "source": [
    "<ul>\n",
    "   <li> Algorytm Kahana oblicza sumę zapamiętując błąd wynikający z dodania bardzo małej liczby do dużej liczby, po czym w następnej iteracji dodaje ten błąd do inputu (małej liczby), znacząco maleje przez to błąd numeryczny całego wyrażenia\n",
    "<li>err - służy do akumulacji błędu\n",
    "</ul>    "
   ]
  },
  {
   "cell_type": "markdown",
   "metadata": {},
   "source": [
    "#### 2.3\n",
    " Porównaj czasy działania algorytmu Kahana oraz algorytmu sumowania rekurencyjnego dla tych samych danych wejściowych.\n"
   ]
  },
  {
   "cell_type": "code",
   "execution_count": 149,
   "metadata": {},
   "outputs": [
    {
     "name": "stdout",
     "output_type": "stream",
     "text": [
      "Recursive algirithm: 6.33406662940979s\n",
      "Kahan algirithm: 2.490342855453491s\n"
     ]
    }
   ],
   "source": [
    "start = time.time()\n",
    "recursive_sum(numbers)\n",
    "end = time.time()\n",
    "\n",
    "print(\"Recursive algirithm: \" + str(end - start) + \"s\")\n",
    "\n",
    "start = time.time()\n",
    "kahan_sum(numbers)\n",
    "end = time.time()\n",
    "\n",
    "print(\"Kahan algirithm: \" + str(end-start)+ \"s\")"
   ]
  },
  {
   "cell_type": "markdown",
   "metadata": {},
   "source": [
    "### ZAD 3\n",
    "Rozważ sumy częściowe szeregu definiującego funkcję dzeta Riemanna oraz funkcję eta Dirichleta\n",
    "\n"
   ]
  },
  {
   "cell_type": "code",
   "execution_count": 150,
   "metadata": {},
   "outputs": [],
   "source": [
    "S = [2,3.6667,5,7.2,10]\n",
    "N = [50,100,200,500,1000]"
   ]
  },
  {
   "cell_type": "code",
   "execution_count": 151,
   "metadata": {},
   "outputs": [],
   "source": [
    "def dzeta_forth(s, n, zero=0, eta=False):\n",
    "    sum = zero\n",
    "    for k in range(1, n + 1):\n",
    "        a = (-1)**(k-1) if eta else 1\n",
    "        sum += 1 / ((k ** s) * a)\n",
    "    return sum"
   ]
  },
  {
   "cell_type": "code",
   "execution_count": 152,
   "metadata": {},
   "outputs": [],
   "source": [
    "def dzeta_back(s, n, zero=0, eta=False):\n",
    "    sum = zero\n",
    "    for k in range(n, 0, -1):\n",
    "        a = (-1)**(k-1) if eta else 1\n",
    "        sum += 1 / ((k ** s) * a)\n",
    "    return sum"
   ]
  },
  {
   "cell_type": "code",
   "execution_count": null,
   "metadata": {},
   "outputs": [],
   "source": [
    "for s in S:\n",
    "    for n in N:\n",
    "        dzeta = {'double':{'forth': dzeta_forth(s,n),'back': dzeta_back(s,n)},\n",
    "                'float32':{'forth': dzeta_forth(s,n,zero=np.float32(0)),'back':dzeta_back(s,n,zero=np.float32(0))}};\n",
    "        eta = {'double':{'forth': dzeta_forth(s,n,eta=True),'back': dzeta_back(s,n,eta=True)},\n",
    "              'float32':{'forth': dzeta_forth(s,n,zero=np.float32(0),eta=True),\n",
    "              'back':dzeta_back(s,n,zero=np.float32(0),eta=True)}};\n",
    "        print(\"Absolute error float/double forth: \",absolute_error(dzeta['float32']['forth'],dzeta['double']['forth']))\n",
    "        print(\"Relative error float/double back: \",relative_error(dzeta['float32']['back'],dzeta['double']['back']))\n",
    "        print(\"Absolute error double back/forth: \",absolute_error(dzeta['double']['forth'],dzeta['double']['back']))\n"
   ]
  },
  {
   "cell_type": "markdown",
   "metadata": {},
   "source": [
    "### 4 Błędy zaokrągleń i odwzorowanie logistyczne\n",
    "#### a)"
   ]
  },
  {
   "cell_type": "code",
   "execution_count": 153,
   "metadata": {},
   "outputs": [],
   "source": [
    "def logistic(r,x):\n",
    "    return r * x * (1 - x) "
   ]
  },
  {
   "cell_type": "code",
   "execution_count": 154,
   "metadata": {},
   "outputs": [
    {
     "data": {
      "image/png": "[encoded data removed]",
      "text/plain": [
       "<Figure size 432x288 with 1 Axes>"
      ]
     },
     "metadata": {
      "needs_background": "light"
     },
     "output_type": "display_data"
    }
   ],
   "source": [
    "r = 2\n",
    "x = np.linspace(0,1)\n",
    "plt.plot(x,logistic(r,x),'k')\n",
    "plt.show()"
   ]
  },
  {
   "cell_type": "code",
   "execution_count": 155,
   "metadata": {},
   "outputs": [],
   "source": [
    "def bifurcation_diagram(x0, n_skip, n_iter, r_min=1, r_max=4, step=0.0001, double=True):\n",
    "    R = []\n",
    "    X = []\n",
    "    \n",
    "    r_range = np.linspace(r_min, r_max, int(1/step))\n",
    "    \n",
    "    for r in r_range:\n",
    "        if double:\n",
    "            x = x0\n",
    "        else:\n",
    "            x = np.float32(x0)\n",
    "            r = np.float32(r)\n",
    "        \n",
    "        for i in range(n_iter + n_skip + 1):\n",
    "            if i >= n_skip:\n",
    "                R.append(r)\n",
    "                X.append(x)\n",
    "                \n",
    "            x = logistic(r, x)\n",
    "    \n",
    "    plt.plot(R, X, ls='', marker=',')\n",
    "    plt.ylim(0, 1)\n",
    "    plt.xlim(r_min, r_max)\n",
    "    plt.xlabel('r')\n",
    "    plt.ylabel('X')\n",
    "    plt.show()"
   ]
  },
  {
   "cell_type": "code",
   "execution_count": 156,
   "metadata": {
    "scrolled": false
   },
   "outputs": [
    {
     "data": {
      "image/png": "[encoded data removed]",
      "text/plain": [
       "<Figure size 432x288 with 1 Axes>"
      ]
     },
     "metadata": {
      "needs_background": "light"
     },
     "output_type": "display_data"
    }
   ],
   "source": [
    "bifurcation_diagram(0.2, 100, 20)"
   ]
  },
  {
   "cell_type": "code",
   "execution_count": 157,
   "metadata": {},
   "outputs": [
    {
     "data": {
      "image/png": "[encoded data removed]",
      "text/plain": [
       "<Figure size 432x288 with 1 Axes>"
      ]
     },
     "metadata": {
      "needs_background": "light"
     },
     "output_type": "display_data"
    }
   ],
   "source": [
    "bifurcation_diagram(0.2, 100, 5,step=0.001)"
   ]
  },
  {
   "cell_type": "code",
   "execution_count": 158,
   "metadata": {
    "scrolled": true
   },
   "outputs": [
    {
     "data": {
      "image/png": "[encoded data removed]",
      "text/plain": [
       "<Figure size 432x288 with 1 Axes>"
      ]
     },
     "metadata": {
      "needs_background": "light"
     },
     "output_type": "display_data"
    }
   ],
   "source": [
    "bifurcation_diagram(0.2, 100, 5,r_min=-2,step=0.0001)"
   ]
  },
  {
   "cell_type": "markdown",
   "metadata": {},
   "source": [
    "#### b)\n",
    "Dla tych samych wartości x0 oraz r (3.75 <= r <= 3.8) porównaj trajektorie obliczone\n",
    "z użyciem pojedynczej i podwójnej precyzji. Wyjaśnij otrzymane wyniki."
   ]
  },
  {
   "cell_type": "code",
   "execution_count": 159,
   "metadata": {
    "scrolled": true
   },
   "outputs": [
    {
     "data": {
      "image/png": "[encoded data removed]",
      "text/plain": [
       "<Figure size 432x288 with 1 Axes>"
      ]
     },
     "metadata": {
      "needs_background": "light"
     },
     "output_type": "display_data"
    }
   ],
   "source": [
    "#double precision\n",
    "bifurcation_diagram(0.25, 100, 5, r_min=3.75, r_max=3.8)"
   ]
  },
  {
   "cell_type": "code",
   "execution_count": 160,
   "metadata": {},
   "outputs": [
    {
     "data": {
      "image/png": "[encoded data removed]",
      "text/plain": [
       "<Figure size 432x288 with 1 Axes>"
      ]
     },
     "metadata": {
      "needs_background": "light"
     },
     "output_type": "display_data"
    }
   ],
   "source": [
    "#single precision\n",
    "bifurcation_diagram(0.25, 100, 5, r_min=3.75, r_max=3.8,double=False)"
   ]
  },
  {
   "cell_type": "markdown",
   "metadata": {},
   "source": [
    "#### c)\n",
    "Dla r = 4 i różnych wartości x0 wyznacz (pojedyncza precyzja) liczbę iteracji\n",
    "potrzebnych do osiągnięcia zera. Przedstaw interpretację rezultatów"
   ]
  },
  {
   "cell_type": "code",
   "execution_count": null,
   "metadata": {
    "scrolled": true
   },
   "outputs": [],
   "source": [
    "r = np.float32(4)\n",
    "x0 = np.float32(0.2)\n",
    "\n",
    "i =0 \n",
    "x = logistic(r,x0)\n",
    "while x != np.float32(0):\n",
    "    x = logistic(r,x)\n",
    "    i += 1\n",
    "    if i % 50000 == 0: print(x)\n",
    "print(x)\n",
    "print(i)"
   ]
  }
 ],
 "metadata": {
  "kernelspec": {
   "display_name": "Python 3",
   "language": "python",
   "name": "python3"
  },
  "language_info": {
   "codemirror_mode": {
    "name": "ipython",
    "version": 3
   },
   "file_extension": ".py",
   "mimetype": "text/x-python",
   "name": "python",
   "nbconvert_exporter": "python",
   "pygments_lexer": "ipython3",
   "version": "3.7.3"
  }
 },
 "nbformat": 4,
 "nbformat_minor": 2
}

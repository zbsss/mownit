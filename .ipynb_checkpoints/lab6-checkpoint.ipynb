{
 "cells": [
  {
   "cell_type": "markdown",
   "metadata": {},
   "source": [
    "# Laboratorium 6\n",
    "### *Michał Kurleto*"
   ]
  },
  {
   "cell_type": "code",
   "execution_count": 1,
   "metadata": {},
   "outputs": [],
   "source": [
    "import numpy as np\n",
    "from matplotlib import pyplot as plt\n",
    "import networkx as nx\n",
    "import time\n",
    "import random"
   ]
  },
  {
   "cell_type": "markdown",
   "metadata": {},
   "source": [
    "## Zadanie 1.\n",
    "Napisz i sprawdź funkcję rozwiązującą układ równań liniowych n × n metodą GaussaJordana. Dla rozmiarów macierzy współczynników większych niż 500 × 500 porównaj\n",
    "czasy działania zaimplementowanej funkcji z czasami uzyskanymi dla wybranych funkcji\n",
    "bibliotecznych."
   ]
  },
  {
   "cell_type": "code",
   "execution_count": 2,
   "metadata": {},
   "outputs": [],
   "source": [
    "def gauss_jordan(A, B):\n",
    "    n = len(B)\n",
    "    \n",
    "    for i in range(n):\n",
    "        for j in range(i + 1, n):\n",
    "            if abs(A[j][i]) > abs(A[i][i]):\n",
    "                A[[i, j]] = A[[j, i]]\n",
    "                B[i], B[j] = B[j], B[i]\n",
    "        \n",
    "        for j in range(i + 1, n):\n",
    "            m = A[j][i] / A[i][i]\n",
    "            A[j] = A[j] - m * A[i]\n",
    "            B[j] = B[j] - m * B[i]\n",
    "    \n",
    "    for i in range(n):\n",
    "        m = A[i][i]\n",
    "        A[i] = A[i] / m\n",
    "        B[i] = B[i] / m\n",
    "    \n",
    "    for i in range(n):\n",
    "        B[n - i - 1] = B[n - i - 1] - np.sum((A[n - i - 1] * B)[(n - i):])\n",
    "    \n",
    "    return B"
   ]
  },
  {
   "cell_type": "code",
   "execution_count": 20,
   "metadata": {},
   "outputs": [],
   "source": [
    "def compare_results(n, epsilon=10**(-7)):\n",
    "    success = False\n",
    "    gauss_time = 0\n",
    "    linalg_time = 0\n",
    "    \n",
    "    A = np.random.randint(low=-100, high=100, size=(n, n)).astype(float)\n",
    "    B = np.random.randint(low=1, high=100, size=n).astype(float)\n",
    "    \n",
    "    start = time.time()\n",
    "    S1 = np.linalg.solve(A, B)\n",
    "    end = time.time()\n",
    "    linalg_time = (end - start) * 1000\n",
    "    \n",
    "    start = time.time()\n",
    "    S2 = gauss_jordan(A, B)\n",
    "    end = time.time()\n",
    "    gauss_time = (end - start) * 1000\n",
    "    \n",
    "    if np.array(list(map(lambda x: abs(x) <= epsilon, (S2 - S1)))).all():\n",
    "        success = True\n",
    "    \n",
    "    return success, gauss_time, linalg_time"
   ]
  },
  {
   "cell_type": "code",
   "execution_count": 8,
   "metadata": {},
   "outputs": [],
   "source": [
    "def print_results(n, epsilon=10**(-7)):\n",
    "    success, gauss_time, linalg_time = compare_results(n ,epsilon)\n",
    "    print(\"Success!\") if success else print(\"Failed!\")\n",
    "    print(\"My implementation time: \", gauss_time)\n",
    "    print(\"Numpy linalg.solve time: \", linalg_time)"
   ]
  },
  {
   "cell_type": "code",
   "execution_count": 82,
   "metadata": {
    "scrolled": true
   },
   "outputs": [
    {
     "name": "stdout",
     "output_type": "stream",
     "text": [
      "Success!\n",
      "My implementation time:  0.9977817535400391\n",
      "Numpy linalg.solve time:  0.9973049163818359\n"
     ]
    }
   ],
   "source": [
    "print_results(15)"
   ]
  },
  {
   "cell_type": "code",
   "execution_count": 83,
   "metadata": {},
   "outputs": [
    {
     "name": "stdout",
     "output_type": "stream",
     "text": [
      "Success!\n",
      "My implementation time:  2.991199493408203\n",
      "Numpy linalg.solve time:  0.0\n"
     ]
    }
   ],
   "source": [
    "print_results(15)"
   ]
  },
  {
   "cell_type": "code",
   "execution_count": 23,
   "metadata": {
    "scrolled": false
   },
   "outputs": [
    {
     "name": "stdout",
     "output_type": "stream",
     "text": [
      "Success!\n",
      "My implementation time:  2211.0846042633057\n",
      "Numpy linalg.solve time:  19.94609832763672\n"
     ]
    }
   ],
   "source": [
    "print_results(1000)"
   ]
  },
  {
   "cell_type": "markdown",
   "metadata": {},
   "source": [
    "### Wnioski: \n",
    "Jak widać funkcja biblioteczna jest znacznie wydajniejsza niż moja prosta implementacja. Zdarza się, aczkolwiek rzadko, że moja implementacja jest porównywalna, a nawet szybsza. Możliwe że dzieje się tak dla jakiegoś konkretnego typu macierzy (macierze są tworzone losowo)."
   ]
  },
  {
   "cell_type": "markdown",
   "metadata": {},
   "source": [
    "## Zadanie 2.\n",
    "Napisz i sprawdź funkcję dokonującą faktoryzacji A = LU macierzy A. Zastosuj częściowe poszukiwanie elementu wiodącego oraz skalowanie."
   ]
  },
  {
   "cell_type": "code",
   "execution_count": 87,
   "metadata": {},
   "outputs": [],
   "source": [
    "def LU(A):\n",
    "    n = len(A)\n",
    "    L = np.identity(n)\n",
    "    U = np.identity(n)\n",
    "    \n",
    "    for j in range(n):\n",
    "        for i in range(n):\n",
    "            if i <= j:\n",
    "                U[i][j] = A[i][j] - np.sum(L[i,0:i] * U[0:i,j])\n",
    "            else:\n",
    "                L[i][j] = 1 / U[j][j] * (A[i][j] - np.sum(L[i, 0:j] * U[0:j, j]))\n",
    "    \n",
    "    return L, U"
   ]
  },
  {
   "cell_type": "code",
   "execution_count": 88,
   "metadata": {},
   "outputs": [],
   "source": [
    "def compare_LU(n, epsilon=10**(-7)):\n",
    "    A = np.random.randint(low=-100, high=100, size=(n, n)).astype(float)\n",
    "    \n",
    "    L, U = LU(A)\n",
    "    S = L @ U\n",
    "    \n",
    "    if np.array(list(map(lambda x: abs(x) <= epsilon, (A.flatten() - S.flatten())))).all():\n",
    "        print(\"Success!\")\n",
    "    else:\n",
    "        print(\"Failed!\")"
   ]
  },
  {
   "cell_type": "code",
   "execution_count": 89,
   "metadata": {},
   "outputs": [
    {
     "name": "stdout",
     "output_type": "stream",
     "text": [
      "Success!\n"
     ]
    }
   ],
   "source": [
    "compare_LU(50)"
   ]
  },
  {
   "cell_type": "code",
   "execution_count": 281,
   "metadata": {},
   "outputs": [
    {
     "name": "stdout",
     "output_type": "stream",
     "text": [
      "Success!\n"
     ]
    }
   ],
   "source": [
    "compare_LU(50, epsilon=10**(-11))"
   ]
  },
  {
   "cell_type": "code",
   "execution_count": 282,
   "metadata": {},
   "outputs": [
    {
     "name": "stdout",
     "output_type": "stream",
     "text": [
      "Failed!\n"
     ]
    }
   ],
   "source": [
    "compare_LU(50, epsilon=10**(-12))"
   ]
  },
  {
   "cell_type": "code",
   "execution_count": 92,
   "metadata": {},
   "outputs": [
    {
     "name": "stdout",
     "output_type": "stream",
     "text": [
      "Success!\n"
     ]
    }
   ],
   "source": [
    "compare_LU(1000)"
   ]
  },
  {
   "cell_type": "code",
   "execution_count": 91,
   "metadata": {
    "scrolled": false
   },
   "outputs": [
    {
     "name": "stdout",
     "output_type": "stream",
     "text": [
      "Failed!\n"
     ]
    }
   ],
   "source": [
    "compare_LU(1000, epsilon=10**(-12))"
   ]
  },
  {
   "cell_type": "markdown",
   "metadata": {},
   "source": [
    "### Wnioski:\n",
    "Otrzymane wyniki są zgodne dla implementacji bibliotecznej i mojej własnej. Błąd jest pomijalny rzędu 10^(-12)."
   ]
  },
  {
   "cell_type": "markdown",
   "metadata": {},
   "source": [
    "## Zadanie 3.\n",
    "Napisz program, który:  \n",
    "\n",
    "a) Wczytuje z pliku listę krawędzi grafu opisującego obwód elektryczny. Wagi krawędzi określają opór fragmentu obwodu między dwoma węzłami. Wierzchołki grafu\n",
    "identyfikowane są przez liczby naturalne."
   ]
  },
  {
   "cell_type": "code",
   "execution_count": 276,
   "metadata": {},
   "outputs": [],
   "source": [
    "def read_graph(filepath):\n",
    "    file = open(filepath, 'r') \n",
    "    lines = file.read().split(\"\\n\")\n",
    "\n",
    "    G = nx.DiGraph()\n",
    "\n",
    "    stE = lines.pop(0)\n",
    "    stE = list(map(lambda arg: int(arg), stE.split(' ')))\n",
    "\n",
    "    for line in lines:\n",
    "        argument = line.split(\" \")\n",
    "        G.add_edge(int(argument[0]), int(argument[1]), R = random.randint(1, 10))\n",
    "\n",
    "    return G"
   ]
  },
  {
   "cell_type": "markdown",
   "metadata": {
    "scrolled": true
   },
   "source": [
    "b) Wczytuje dodatkowo trójkę liczb (s, t, E), przy czym para (s, t) wskazuje między którymi węzłami sieci przyłożono siłę elektromotoryczną E. Opór wewnętrzny\n",
    "SEM można zaniedbać.\n"
   ]
  },
  {
   "cell_type": "markdown",
   "metadata": {},
   "source": [
    "c) Wykorzystując prawa Kirchhoffa znajduje natężenia prądu w każdej części obwodu\n",
    "i przedstawia je na rysunku w postaci grafu ważonego z etykietami."
   ]
  },
  {
   "cell_type": "code",
   "execution_count": 274,
   "metadata": {},
   "outputs": [],
   "source": [
    "def draw_graph(G, attribute, pos=nx.kamada_kawai_layout(G)):\n",
    "\n",
    "    nx.draw_networkx_edge_labels(\n",
    "        G, \n",
    "        pos=pos, \n",
    "        edge_labels={e:'%.2f' %I for e,I in nx.get_edge_attributes(G,'I').items()}\n",
    "    )\n",
    "   \n",
    "    \n",
    "    nx.draw(\n",
    "        G, \n",
    "        pos=pos,\n",
    "        node_size=150,\n",
    "        font_size=8,\n",
    "        with_labels=True\n",
    "    )"
   ]
  },
  {
   "cell_type": "code",
   "execution_count": 223,
   "metadata": {},
   "outputs": [],
   "source": [
    "epsilon = 1e-8\n",
    "\n",
    "def kirchoff(G, s, t, E):\n",
    "    G.add_edge(s, t, R=0)\n",
    "\n",
    "    n = G.number_of_edges()\n",
    "    M = np.zeros((n, n))\n",
    "    W = np.zeros(n)\n",
    "\n",
    "    edges = list(G.edges())\n",
    "    cycles = nx.cycle_basis(G.to_undirected())\n",
    "    for cycle in cycles:\n",
    "        cycle.append(cycle[0])\n",
    "    cycles_count = len(cycles)\n",
    "\n",
    "    # II Kirchoff's Law\n",
    "    for i, cycle in enumerate(cycles):\n",
    "        for j in range(len(cycle) - 1):\n",
    "            pair = (cycle[j], cycle[j + 1])\n",
    "            if pair == (s, t):\n",
    "                W[i] = E\n",
    "            elif pair == (t, s):\n",
    "                W[i] = -E\n",
    "            else:\n",
    "                (u, v) = pair\n",
    "                if (u, v) in edges:\n",
    "                    j = edges.index((u, v))\n",
    "                    M[i][j] = G[u][v]['R']\n",
    "                elif (v, u) in edges:\n",
    "                    j = edges.index((v, u))\n",
    "                    M[i][j] = -G[v][u]['R']\n",
    "\n",
    "    # I Kirchoff's Law\n",
    "    # add additional equations based on nodes if no sufficient amount of equations\n",
    "    for i, vertex in enumerate(G.nodes()):\n",
    "        if cycles_count + i < len(edges):  \n",
    "            for (u, v) in G.out_edges(vertex):  \n",
    "                j = edges.index((u, v))\n",
    "                M[cycles_count + i, j] = -1\n",
    "            for (u, v) in G.in_edges(vertex):\n",
    "                j = edges.index((u, v))\n",
    "                M[cycles_count + i, j] = 1\n",
    "        else:\n",
    "            break\n",
    "\n",
    "    if np.linalg.matrix_rank(M) != n:\n",
    "        raise Exception(\"Cannot solve equation\")\n",
    "\n",
    "    I = np.linalg.solve(M, W)\n",
    "\n",
    "    for i, (u, v) in enumerate(G.copy().edges()):\n",
    "        if I[i] < 0:\n",
    "            I[i] = -I[i]\n",
    "            tmp = G.edges[(u, v)]['R']\n",
    "            G.remove_edge(u, v)\n",
    "            G.add_edge(v, u, R=tmp)\n",
    "            (u, v) = (v, u)\n",
    "        G.edges[(u, v)]['I'] = I[i]\n",
    "\n",
    "    # II Kirchoff's Law\n",
    "    for i, cycle in enumerate(cycles):\n",
    "        U = 0\n",
    "        for i in range(len(cycle) - 1):\n",
    "            pair = (cycle[i], cycle[i + 1])\n",
    "            if pair == (s, t):\n",
    "                U += E\n",
    "            elif pair == (t, s):\n",
    "                U -= E\n",
    "            else:\n",
    "                (u, v) = pair\n",
    "                if (u, v) in G.edges():\n",
    "                    U = U - G.edges[(u, v)]['R'] * G.edges[(u, v)]['I']\n",
    "                elif (v, u) in edges:\n",
    "                    U = U + G.edges[(v, u)]['R'] * G.edges[(v, u)]['I']\n",
    "        if U > epsilon:\n",
    "            raise Exception(\"Cannot solve equation\")\n",
    "\n",
    "   # I Kirchoff's Law\n",
    "    for x in G.nodes():\n",
    "        I = 0\n",
    "        for e in G.in_edges(x):\n",
    "            I += G.edges[e]['I']\n",
    "        for e in G.out_edges(x):\n",
    "            I -= G.edges[e]['I']\n",
    "        if I > epsilon:\n",
    "            raise Exception(\"Cannot solve equation\")\n",
    "\n",
    "    return G"
   ]
  },
  {
   "cell_type": "code",
   "execution_count": 224,
   "metadata": {},
   "outputs": [],
   "source": [
    "n = 15\n",
    "G = nx.DiGraph()\n",
    "for u in range(n):\n",
    "    for v in range(u, n):\n",
    "        if random.random() < 0.2:\n",
    "            G.add_edge(u, v, R = random.randint(1, 10))\n"
   ]
  },
  {
   "cell_type": "code",
   "execution_count": 254,
   "metadata": {
    "scrolled": true
   },
   "outputs": [
    {
     "data": {
      "image/png": "[encoded data removed]",
      "text/plain": [
       "<Figure size 432x288 with 1 Axes>"
      ]
     },
     "metadata": {},
     "output_type": "display_data"
    }
   ],
   "source": [
    "s, t, E = 0, 1, 10\n",
    "G = kirchoff(G, s, t, E)\n",
    "draw_graph(G,\"I\", nx.circular_layout(G))"
   ]
  },
  {
   "cell_type": "markdown",
   "metadata": {},
   "source": [
    "#### Graf 3-regularny:"
   ]
  },
  {
   "cell_type": "code",
   "execution_count": 277,
   "metadata": {},
   "outputs": [],
   "source": [
    "from matplotlib.pyplot import figure\n",
    "def draw_graph(G, pos, node_size = 200, color = 'white'):\n",
    "    \n",
    "    nx.draw_networkx_nodes(G, pos, node_color = 'purple', node_size = node_size)\n",
    "    nx.draw_networkx_labels(G, pos, font_size = 12, font_color = color)\n",
    "\n",
    "    nx.draw_networkx_edges(G, \n",
    "                           pos, \n",
    "                           edge_color=[I for _,I in nx.get_edge_attributes(G,'I').items()],\n",
    "                           edge_cmap=plt.cm.BuPu,\n",
    "                           edge_vmin=0.1, \n",
    "                           edge_vmax=1, \n",
    "                           arrowsize=16, \n",
    "                           node_size=node_size)\n",
    "    \n",
    "    edgeLabels = {e:'%.2f' %I for e,I in nx.get_edge_attributes(G,'I').items()}   \n",
    "    nx.draw_networkx_edge_labels(G, pos, edge_labels=edgeLabels, font_size = 8)\n",
    "    plt.show()"
   ]
  },
  {
   "cell_type": "code",
   "execution_count": 278,
   "metadata": {
    "scrolled": false
   },
   "outputs": [
    {
     "data": {
      "image/png": "[encoded data removed]",
      "text/plain": [
       "<Figure size 432x288 with 1 Axes>"
      ]
     },
     "metadata": {
      "needs_background": "light"
     },
     "output_type": "display_data"
    }
   ],
   "source": [
    "P = nx.DiGraph()\n",
    "for u, v in nx.petersen_graph().edges():\n",
    "    P.add_edge(u, v, R=random.randint(0,10))\n",
    "    \n",
    "P = kirchoff(P, s, t ,E)\n",
    "pos = {0:[0,2], 1:[2,0], 2:[1,-3],3:[-1,-3], 4:[-2,0], 5:[0,1], 6:[1,0], 7:[0.7,-2], 8:[-0.7,-2],9:[-1,0]} \n",
    "draw_graph(P, pos)"
   ]
  },
  {
   "cell_type": "markdown",
   "metadata": {},
   "source": [
    "#### Graf siatka 2D:"
   ]
  },
  {
   "cell_type": "code",
   "execution_count": 279,
   "metadata": {},
   "outputs": [
    {
     "data": {
      "image/png": "[encoded data removed]",
      "text/plain": [
       "<Figure size 432x288 with 1 Axes>"
      ]
     },
     "metadata": {
      "needs_background": "light"
     },
     "output_type": "display_data"
    }
   ],
   "source": [
    "n = 4\n",
    "G = nx.DiGraph()\n",
    "for u, v in nx.grid_2d_graph(n, n).edges():\n",
    "    G.add_edge(u, v, R=random.randint(0,10))\n",
    "\n",
    "pos = {(i, j): [i, j] for i in range(n) for j in range(n)}\n",
    "\n",
    "stE = ((0, 0), (1, 0), 100)\n",
    "G = kirchoff(G, *stE)\n",
    "draw_graph(G, pos, 50, 'purple')"
   ]
  }
 ],
 "metadata": {
  "kernelspec": {
   "display_name": "Python 3",
   "language": "python",
   "name": "python3"
  },
  "language_info": {
   "codemirror_mode": {
    "name": "ipython",
    "version": 3
   },
   "file_extension": ".py",
   "mimetype": "text/x-python",
   "name": "python",
   "nbconvert_exporter": "python",
   "pygments_lexer": "ipython3",
   "version": "3.7.3"
  }
 },
 "nbformat": 4,
 "nbformat_minor": 2
}

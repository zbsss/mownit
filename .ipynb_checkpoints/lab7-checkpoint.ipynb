{
 "cells": [
  {
   "cell_type": "markdown",
   "metadata": {},
   "source": [
    "# Laboratorium 7\n",
    "### *Michał Kurleto*"
   ]
  },
  {
   "cell_type": "code",
   "execution_count": 5,
   "metadata": {},
   "outputs": [],
   "source": [
    "import numpy as np\n",
    "import time\n",
    "from matplotlib import pyplot as plt\n",
    "import scipy.linalg\n",
    "from pprint import pprint"
   ]
  },
  {
   "cell_type": "markdown",
   "metadata": {},
   "source": [
    "## 1. Metoda potęgowa\n",
    "Napisz funkcję obliczającą metodą potęgową dominującą wartość własną (największą co\n",
    "do modułu) i odpowiadający jej wektor własny dla danej macierzy rzeczywistej symetrycznej. Sprawdź poprawność działania programu porównując własną implementację\n",
    "z wynikami funkcji bibliotecznej. Przedstaw na wykresie zależność czasu obliczeń od\n",
    "rozmiaru macierzy (rozmiary macierzy 100x100, 500x500, ...)."
   ]
  },
  {
   "cell_type": "code",
   "execution_count": 130,
   "metadata": {},
   "outputs": [],
   "source": [
    "def power_method(A, max_iterations=10000, epsilon=1e-8):\n",
    "    n = A.shape[0]\n",
    "    x = np.random.uniform(size=(n, 1))\n",
    "    \n",
    "    i = 0\n",
    "    while i < max_iterations:\n",
    "        x_i = A @ x\n",
    "        x_i /= np.linalg.norm(x_i)\n",
    "        \n",
    "        if np.linalg.norm(x_i - x) < epsilon:\n",
    "            break\n",
    "        \n",
    "        x = x_i\n",
    "        i += 1\n",
    "        \n",
    "    return x.T @ A @ x_i, x / np.linalg.norm(x), i"
   ]
  },
  {
   "cell_type": "markdown",
   "metadata": {},
   "source": [
    "Funkcja porównuje wyniki mojej implementacji metody potęgowej oraz funkcji bibliotecznej numpy.linalg.eig()."
   ]
  },
  {
   "cell_type": "code",
   "execution_count": 144,
   "metadata": {
    "scrolled": true
   },
   "outputs": [],
   "source": [
    "def check_result(A, epsilon=1e-6):\n",
    "    eig_val_mine, eig_vect_mine, iterations = power_method(A)\n",
    "    eig_val, eig_vect = np.linalg.eig(A)\n",
    "    \n",
    "    max_index = np.argmax(np.absolute(eig_val))\n",
    "    \n",
    "    eig_vect = eig_vect[:, max_index]\n",
    "    eig_val = eig_val[max_index]\n",
    "    \n",
    "    for x, y in zip(eig_vect, eig_vect_mine):\n",
    "        if abs(abs(x) - abs(y)) > epsilon:\n",
    "            return False\n",
    "    return abs(abs(eig_val) - abs(eig_val_mine)) < epsilon;"
   ]
  },
  {
   "cell_type": "code",
   "execution_count": 145,
   "metadata": {
    "scrolled": true
   },
   "outputs": [
    {
     "name": "stdout",
     "output_type": "stream",
     "text": [
      "Corrent for n = 10 and epsilon = 1e-08\n",
      "Corrent for n = 20 and epsilon = 1e-08\n",
      "Corrent for n = 30 and epsilon = 1e-08\n",
      "Corrent for n = 40 and epsilon = 1e-08\n",
      "Corrent for n = 50 and epsilon = 1e-08\n",
      "Corrent for n = 60 and epsilon = 1e-08\n",
      "Corrent for n = 70 and epsilon = 1e-08\n",
      "Corrent for n = 80 and epsilon = 1e-08\n",
      "Corrent for n = 90 and epsilon = 1e-08\n",
      "Corrent for n = 100 and epsilon = 1e-08\n"
     ]
    }
   ],
   "source": [
    "epsilon = 1e-8\n",
    "for n in range(10, 110, 10):\n",
    "    A = np.random.randint(low=0, high=10, size=(n, n))\n",
    "    A = (A + A.T)/2\n",
    "    if check_result(A):\n",
    "        print(\"Corrent for n = {0} and epsilon = {1}\".format(n, epsilon))\n",
    "    else:\n",
    "        print(\"Incorrent for n = {0} and epsilon = {1}\".format(n, epsilon))"
   ]
  },
  {
   "cell_type": "markdown",
   "metadata": {},
   "source": [
    "Jak widać wyniki są zgodne dla różnych wymiarów macierzy"
   ]
  },
  {
   "cell_type": "code",
   "execution_count": 114,
   "metadata": {},
   "outputs": [],
   "source": [
    "def time_function(func, *args):\n",
    "    start = time.time()\n",
    "    func(*args)\n",
    "    end = time.time()\n",
    "    return (end - start) * 1000"
   ]
  },
  {
   "cell_type": "code",
   "execution_count": 127,
   "metadata": {
    "scrolled": true
   },
   "outputs": [
    {
     "data": {
      "image/png": "[encoded data removed]",
      "text/plain": [
       "<Figure size 432x288 with 1 Axes>"
      ]
     },
     "metadata": {
      "needs_background": "light"
     },
     "output_type": "display_data"
    }
   ],
   "source": [
    "times = []\n",
    "sizes = [size for size in range(100, 2100, 100)]\n",
    "\n",
    "for size in sizes:\n",
    "    A = np.random.randint(low=0, high=10, size=(size, size))\n",
    "    A = (A + A.T)/2\n",
    "    times.append(time_function(power_method, A))\n",
    "\n",
    "for i in range(len(sizes)):\n",
    "    plt.scatter(sizes[i], times[i], c='red', marker='x')\n",
    "\n",
    "plt.show()"
   ]
  },
  {
   "cell_type": "markdown",
   "metadata": {},
   "source": [
    "Wykres czasu potrzebnego na obliczenie wektorów własnych, od wymiarów macierzy."
   ]
  },
  {
   "cell_type": "markdown",
   "metadata": {},
   "source": [
    "## 2. Odwrotna metoda potęgowa\n",
    "Opierając się na twierdzeniu o transformacji widma macierzy oraz wykorzystując metodę potęgową i faktoryzację LU zaimplementuj odwrotną metodę\n",
    "potęgową pozwalającą na szybkie znalezienie wektorów własnych macierzy A, dla wartości σ bliskich odpowiedniej wartości własnej. Wykorzystaj fakt, że mnożenie wektora xi\n",
    "przez macierz A−1\n",
    "(xi+1 = A−1xi) odpowiada rozwiązaniu układu równań Axi+1 = xi.\n"
   ]
  },
  {
   "cell_type": "code",
   "execution_count": 142,
   "metadata": {},
   "outputs": [],
   "source": [
    "def inverse_power_method(A, sigma = 0, max_iterations=10000,  epsilon=1e-8):\n",
    "    n = A.shape[0]\n",
    "    x = np.random.uniform(size=(n, 1))\n",
    "    \n",
    "    LU = scipy.linalg.lu_factor(A - sigma * np.identity(n))\n",
    "    \n",
    "    i = 0\n",
    "    while i < max_iterations:\n",
    "        x_i = scipy.linalg.lu_solve(LU, x)\n",
    "        x_i /= np.linalg.norm(x_i)\n",
    "        \n",
    "        if np.linalg.norm(x_i - x) < epsilon:\n",
    "            break\n",
    "        \n",
    "        x = x_i\n",
    "        i += 1\n",
    "        \n",
    "    return x_i, i"
   ]
  },
  {
   "cell_type": "code",
   "execution_count": 160,
   "metadata": {
    "scrolled": true
   },
   "outputs": [
    {
     "name": "stdout",
     "output_type": "stream",
     "text": [
      "Corrent for n = 10 and epsilon = 1e-08\n",
      "Corrent for n = 20 and epsilon = 1e-08\n",
      "Corrent for n = 30 and epsilon = 1e-08\n",
      "Corrent for n = 40 and epsilon = 1e-08\n",
      "Corrent for n = 50 and epsilon = 1e-08\n",
      "Corrent for n = 60 and epsilon = 1e-08\n",
      "Corrent for n = 70 and epsilon = 1e-08\n",
      "Corrent for n = 80 and epsilon = 1e-08\n",
      "Corrent for n = 90 and epsilon = 1e-08\n",
      "Corrent for n = 100 and epsilon = 1e-08\n"
     ]
    }
   ],
   "source": [
    "epsilon = 1e-8\n",
    "for n in range(10, 110, 10):\n",
    "    A = np.random.randint(low=0, high=10, size=(n, n))\n",
    "    A = (A + A.T)/2\n",
    "    eig_val = power_method(A)[0] \n",
    "    \n",
    "    eig_vect_mine, _ = inverse_power_method(A, eig_val)\n",
    "    \n",
    "    eig_val, eig_vect = np.linalg.eig(A)\n",
    "    max_idx = np.argmax(np.absolute(eig_val))\n",
    "    eig_vect = eig_vect[:, max_idx]\n",
    "    eig_vect = eig_vect[:, None]\n",
    "    \n",
    "    if np.allclose(np.absolute(eig_vect_mine), np.absolute(eig_vect), epsilon):\n",
    "        print(\"Corrent for n = {0} and epsilon = {1}\".format(n, epsilon))\n",
    "    else:\n",
    "        print(\"Incorrent for n = {0} and epsilon = {1}\".format(n, epsilon))"
   ]
  },
  {
   "cell_type": "markdown",
   "metadata": {},
   "source": [
    "Jak widać wyniki mojej implementacji są zgodne z wynikiem otrzymanym przez funkcję numpy.linalg.eig"
   ]
  }
 ],
 "metadata": {
  "kernelspec": {
   "display_name": "Python 3",
   "language": "python",
   "name": "python3"
  },
  "language_info": {
   "codemirror_mode": {
    "name": "ipython",
    "version": 3
   },
   "file_extension": ".py",
   "mimetype": "text/x-python",
   "name": "python",
   "nbconvert_exporter": "python",
   "pygments_lexer": "ipython3",
   "version": "3.7.3"
  }
 },
 "nbformat": 4,
 "nbformat_minor": 2
}
